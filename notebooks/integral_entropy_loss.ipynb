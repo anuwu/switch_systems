{
 "cells": [
  {
   "cell_type": "markdown",
   "id": "877aabcc",
   "metadata": {},
   "source": [
    "## Import"
   ]
  },
  {
   "cell_type": "code",
   "execution_count": 1,
   "id": "dd064377",
   "metadata": {},
   "outputs": [],
   "source": [
    "from importlib import reload\n",
    "\n",
    "import primes as p\n",
    "import math\n",
    "\n",
    "# Reload local modules\n",
    "p = reload(p)"
   ]
  },
  {
   "cell_type": "markdown",
   "id": "004e290f",
   "metadata": {},
   "source": [
    "## Loss map"
   ]
  },
  {
   "cell_type": "code",
   "execution_count": 2,
   "id": "d47f21fd",
   "metadata": {},
   "outputs": [],
   "source": [
    "# Fix security parameter\n",
    "lamb = 128\n",
    "\n",
    "## Corresponding to lambda=128. Map is from bitlength -> entropy loss\n",
    "loss_map = {\n",
    "    1:1,\n",
    "    2:2,\n",
    "    3:5,\n",
    "    4:4,\n",
    "    5:8,\n",
    "    6:8,\n",
    "    7:9,\n",
    "    8:8,\n",
    "    9:11,\n",
    "    10:18,\n",
    "    11:18,\n",
    "    12:20,\n",
    "    13:24,\n",
    "    14:16,\n",
    "    15:23,\n",
    "    16:16\n",
    "}"
   ]
  },
  {
   "cell_type": "markdown",
   "id": "f6fdd04d",
   "metadata": {},
   "source": [
    "## Map primes to bitlength"
   ]
  },
  {
   "cell_type": "code",
   "execution_count": 3,
   "id": "b79bd36c",
   "metadata": {},
   "outputs": [],
   "source": [
    "# Map from bitlength -> list of entropy of all primes of that bitlength\n",
    "bitlength_to_entropy = {\n",
    "    x : []\n",
    "    for x in range(1, 17)\n",
    "}\n",
    "\n",
    "# Map from bitlength -> list of all primes of that bitlength\n",
    "bitlength_to_num = {\n",
    "    x : []\n",
    "    for x in range(1, 17)\n",
    "}\n",
    "\n",
    "for num in p.primes :\n",
    "    # Compute entropy and bitlength\n",
    "    entropy = math.log2(num)\n",
    "    bitlength = math.ceil(entropy)\n",
    "    \n",
    "    # Consider primes of bitlength <= 16 only\n",
    "    if bitlength > 16 :\n",
    "        break\n",
    "    \n",
    "    # Append to map\n",
    "    bitlength_to_entropy[bitlength].append(entropy)\n",
    "    bitlength_to_num[bitlength].append(num)"
   ]
  },
  {
   "cell_type": "markdown",
   "id": "3fcb68fb",
   "metadata": {},
   "source": [
    "## L(h_max; lambda=128) computation"
   ]
  },
  {
   "cell_type": "code",
   "execution_count": 4,
   "id": "97137683",
   "metadata": {},
   "outputs": [],
   "source": [
    "def hmax_to_composite_bitlength(hmax) :\n",
    "    # Initialize bitlength to 0\n",
    "    bitlength = 0\n",
    "    for bl in range(1, 17) :\n",
    "        # loss_map is not monotonic, so there might be entropy losses < hmax further down the list even if the current one is greater\n",
    "        if loss_map[bl] > hmax :\n",
    "            continue\n",
    "        else : # If entropy loss < hmax, add all the entropies\n",
    "            bitlength += sum(bitlength_to_entropy[bl])\n",
    "            \n",
    "    # Return answer\n",
    "    return bitlength"
   ]
  },
  {
   "cell_type": "markdown",
   "id": "4fcb88a7",
   "metadata": {},
   "source": [
    "# Composite bitlengths for hmax from 1 to 16\n",
    "\n"
   ]
  },
  {
   "cell_type": "code",
   "execution_count": 5,
   "id": "fd9e21ef",
   "metadata": {},
   "outputs": [
    {
     "name": "stdout",
     "output_type": "stream",
     "text": [
      "1 : 1.00\n",
      "2 : 2.58\n",
      "3 : 2.58\n",
      "4 : 9.74\n",
      "5 : 14.87\n",
      "6 : 14.87\n",
      "7 : 14.87\n",
      "8 : 250.05\n",
      "9 : 334.88\n",
      "10 : 334.88\n",
      "11 : 702.60\n",
      "12 : 702.60\n",
      "13 : 702.60\n",
      "14 : 702.60\n",
      "15 : 702.60\n",
      "16 : 59637.24\n"
     ]
    }
   ],
   "source": [
    "hmax_to_comp_bl = {}\n",
    "for h in range(1, 17) :\n",
    "    comp_bl = hmax_to_composite_bitlength(h)\n",
    "    hmax_to_comp_bl[h] = comp_bl\n",
    "    print(f\"{h} : {comp_bl:.2f}\")\n",
    "    \n",
    "# print(hmax_to_comp_bl)"
   ]
  },
  {
   "cell_type": "markdown",
   "id": "5d4531d9",
   "metadata": {},
   "source": [
    "## Input bitlengths for hmax from 1 to 16"
   ]
  },
  {
   "cell_type": "code",
   "execution_count": 8,
   "id": "abe1177a",
   "metadata": {},
   "outputs": [
    {
     "name": "stdout",
     "output_type": "stream",
     "text": [
      "1 : -9.47\n",
      "2 : -8.67\n",
      "3 : -8.67\n",
      "4 : -5.09\n",
      "5 : -2.53\n",
      "6 : -2.53\n",
      "7 : -2.53\n",
      "8 : 115.06\n",
      "9 : 157.47\n",
      "10 : 157.47\n",
      "11 : 341.34\n",
      "12 : 341.34\n",
      "13 : 341.34\n",
      "14 : 341.34\n",
      "15 : 341.34\n",
      "16 : 29808.66\n"
     ]
    }
   ],
   "source": [
    "e = 6\n",
    "n = 10**e\n",
    "hmax_to_inp_bl = {}\n",
    "for h in hmax_to_comp_bl.keys() :\n",
    "    inp_bl = (hmax_to_comp_bl[h] - math.log2(n))/2\n",
    "    hmax_to_inp_bl[h] = inp_bl\n",
    "    print(f\"{h} : {inp_bl:.2f}\")"
   ]
  },
  {
   "cell_type": "markdown",
   "id": "95ac8f39",
   "metadata": {},
   "source": [
    "## Vector length corresponding to a minimum input bitlength"
   ]
  },
  {
   "cell_type": "code",
   "execution_count": 11,
   "id": "647e4df8",
   "metadata": {},
   "outputs": [
    {
     "name": "stdout",
     "output_type": "stream",
     "text": [
      "1 : -127.00\n",
      "2 : -125.42\n",
      "3 : -125.42\n",
      "4 : -118.26\n",
      "5 : -113.13\n",
      "6 : -113.13\n",
      "7 : -113.13\n",
      "8 : 122.05\n",
      "9 : 206.88\n",
      "10 : 206.88\n",
      "11 : 574.60\n",
      "12 : 574.60\n",
      "13 : 574.60\n",
      "14 : 574.60\n",
      "15 : 574.60\n",
      "16 : 59509.24\n"
     ]
    }
   ],
   "source": [
    "lim = 64\n",
    "# log(N) - 2lim\n",
    "\n",
    "hmax_to_len = {}\n",
    "for h in hmax_to_comp_bl.keys() :\n",
    "    leng = hmax_to_comp_bl[h] - 2*lim\n",
    "    hmax_to_inp_bl[h] = leng*math.log10(2)\n",
    "    print(f\"{h} : {leng:.2f}\")"
   ]
  },
  {
   "cell_type": "code",
   "execution_count": null,
   "id": "73b992c3",
   "metadata": {},
   "outputs": [],
   "source": []
  }
 ],
 "metadata": {
  "kernelspec": {
   "display_name": "Python 3 (ipykernel)",
   "language": "python",
   "name": "python3"
  },
  "language_info": {
   "codemirror_mode": {
    "name": "ipython",
    "version": 3
   },
   "file_extension": ".py",
   "mimetype": "text/x-python",
   "name": "python",
   "nbconvert_exporter": "python",
   "pygments_lexer": "ipython3",
   "version": "3.11.5"
  }
 },
 "nbformat": 4,
 "nbformat_minor": 5
}
