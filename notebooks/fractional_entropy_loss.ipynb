{
 "cells": [
  {
   "cell_type": "markdown",
   "id": "877aabcc",
   "metadata": {},
   "source": [
    "## Import"
   ]
  },
  {
   "cell_type": "code",
   "execution_count": 19,
   "id": "dd064377",
   "metadata": {},
   "outputs": [],
   "source": [
    "from importlib import reload\n",
    "\n",
    "import primes as p\n",
    "import math\n",
    "\n",
    "# Reload local modules\n",
    "p = reload(p)"
   ]
  },
  {
   "cell_type": "markdown",
   "id": "004e290f",
   "metadata": {},
   "source": [
    "## Loss map"
   ]
  },
  {
   "cell_type": "code",
   "execution_count": 20,
   "id": "d47f21fd",
   "metadata": {},
   "outputs": [],
   "source": [
    "# Fix security parameter\n",
    "lamb = 128\n",
    "\n",
    "\n",
    "######## Corresponding to lambda=128\n",
    "# bitlength -> integral entropy loss\n",
    "loss_map = {\n",
    "    1:1,\n",
    "    2:2,\n",
    "    3:5,\n",
    "    4:4,\n",
    "    5:8,\n",
    "    6:8,\n",
    "    7:9,\n",
    "    8:8,\n",
    "    9:11,\n",
    "    10:18,\n",
    "    11:18,\n",
    "    12:20,\n",
    "    13:24,\n",
    "    14:16,\n",
    "    15:23,\n",
    "    16:16\n",
    "}\n",
    "\n",
    "# prime -> entropy\n",
    "prime_to_entropy = {}\n",
    "\n",
    "# prime -> bitlength\n",
    "prime_to_bitlength = {}\n",
    "\n",
    "# prime -> slots\n",
    "prime_to_slots = {}\n",
    "\n",
    "# prime -> integral entropy loss\n",
    "prime_to_integral_loss = {}\n",
    "\n",
    "# prime -> fractional entropy_loss\n",
    "prime_to_fractional_loss = {}\n",
    "\n",
    "# prime -> total entropy loss = integral + fractional\n",
    "prime_to_total_loss = {}\n",
    "\n",
    "\n",
    "for m in p.primes :\n",
    "    # Loop exit condition\n",
    "    if m > 256 :\n",
    "        break\n",
    "    \n",
    "    # Entropy \n",
    "    entropy = math.log2(m)\n",
    "    prime_to_entropy[m] = entropy\n",
    "    \n",
    "    # Bitlength\n",
    "    bitlength = math.ceil(entropy)\n",
    "    prime_to_bitlength[m] = bitlength\n",
    "    \n",
    "    # Slots\n",
    "    n = math.ceil(lamb/bitlength) - 1\n",
    "    prime_to_slots[m] = n\n",
    "    \n",
    "    # Fractional loss\n",
    "    fractional_loss = 1 - entropy/bitlength\n",
    "    prime_to_fractional_loss[m] = fractional_loss\n",
    "    \n",
    "    # Total loss\n",
    "    total_loss = n*fractional_loss + loss_map[bitlength]\n",
    "    prime_to_total_loss[m] = total_loss    \n"
   ]
  },
  {
   "cell_type": "markdown",
   "id": "3fcb68fb",
   "metadata": {},
   "source": [
    "## L(h_max; lambda=128) computation"
   ]
  },
  {
   "cell_type": "code",
   "execution_count": 21,
   "id": "97137683",
   "metadata": {},
   "outputs": [],
   "source": [
    "def hmax_to_composite_bitlength(hmax) :\n",
    "    # Initialize bitlength to 0\n",
    "    composite_entropy = 0\n",
    "    \n",
    "    # Loop over all primes\n",
    "    for m in p.primes :\n",
    "        # Loop exit condition\n",
    "        if m > 256 :\n",
    "            break\n",
    "        \n",
    "        if prime_to_total_loss[m] > hmax :\n",
    "            continue\n",
    "        else :\n",
    "            composite_entropy += prime_to_entropy[m]\n",
    "            \n",
    "    # Return answer\n",
    "    return composite_entropy"
   ]
  },
  {
   "cell_type": "markdown",
   "id": "4fcb88a7",
   "metadata": {},
   "source": [
    "# Composite bitlengths for hmax from 1 to 16\n",
    "\n"
   ]
  },
  {
   "cell_type": "code",
   "execution_count": 22,
   "id": "fd9e21ef",
   "metadata": {},
   "outputs": [
    {
     "name": "stdout",
     "output_type": "stream",
     "text": [
      "1 : 1.00\n",
      "2 : 1.00\n",
      "3 : 1.00\n",
      "4 : 1.00\n",
      "5 : 1.00\n",
      "6 : 1.00\n",
      "7 : 4.70\n",
      "8 : 7.51\n",
      "9 : 146.57\n",
      "10 : 257.96\n",
      "11 : 304.23\n",
      "12 : 326.88\n",
      "13 : 330.97\n",
      "14 : 330.97\n",
      "15 : 333.29\n",
      "16 : 334.88\n"
     ]
    }
   ],
   "source": [
    "hmax_to_comp_bl = {}\n",
    "for h in range(1, 17) :\n",
    "    comp_bl = hmax_to_composite_bitlength(h)\n",
    "    hmax_to_comp_bl[h] = comp_bl\n",
    "    print(f\"{h} : {comp_bl:.2f}\")"
   ]
  },
  {
   "cell_type": "markdown",
   "id": "5d4531d9",
   "metadata": {},
   "source": [
    "## Input bitlengths for hmax from 1 to 16"
   ]
  },
  {
   "cell_type": "code",
   "execution_count": 33,
   "id": "abe1177a",
   "metadata": {},
   "outputs": [
    {
     "name": "stdout",
     "output_type": "stream",
     "text": [
      "1 : -2.82\n",
      "2 : -2.82\n",
      "3 : -2.82\n",
      "4 : -2.82\n",
      "5 : -2.82\n",
      "6 : -2.82\n",
      "7 : -0.97\n",
      "8 : 0.43\n",
      "9 : 69.96\n",
      "10 : 125.66\n",
      "11 : 148.79\n",
      "12 : 160.12\n",
      "13 : 162.16\n",
      "14 : 162.16\n",
      "15 : 163.32\n",
      "16 : 164.12\n"
     ]
    }
   ],
   "source": [
    "e = 2\n",
    "n = 10**e\n",
    "hmax_to_inp_bl = {}\n",
    "for h in hmax_to_comp_bl.keys() :\n",
    "    inp_bl = (hmax_to_comp_bl[h] - math.log2(n))/2\n",
    "    hmax_to_inp_bl[h] = inp_bl\n",
    "    print(f\"{h} : {inp_bl:.2f}\")"
   ]
  },
  {
   "cell_type": "markdown",
   "id": "95ac8f39",
   "metadata": {},
   "source": [
    "## Vector length corresponding to a minimum input bitlength"
   ]
  },
  {
   "cell_type": "code",
   "execution_count": 40,
   "id": "647e4df8",
   "metadata": {},
   "outputs": [
    {
     "name": "stdout",
     "output_type": "stream",
     "text": [
      "1 : -127.00\n",
      "2 : -127.00\n",
      "3 : -127.00\n",
      "4 : -127.00\n",
      "5 : -127.00\n",
      "6 : -127.00\n",
      "7 : -123.30\n",
      "8 : -120.49\n",
      "9 : 18.57\n",
      "10 : 129.96\n",
      "11 : 176.23\n",
      "12 : 198.88\n",
      "13 : 202.97\n",
      "14 : 202.97\n",
      "15 : 205.29\n",
      "16 : 206.88\n"
     ]
    }
   ],
   "source": [
    "lim = 64\n",
    "# log(N) - 2lim\n",
    "\n",
    "hmax_to_len = {}\n",
    "for h in hmax_to_comp_bl.keys() :\n",
    "    leng = hmax_to_comp_bl[h] - 2*lim\n",
    "    hmax_to_inp_bl[h] = leng*math.log10(2)\n",
    "    print(f\"{h} : {leng:.2f}\")"
   ]
  },
  {
   "cell_type": "code",
   "execution_count": null,
   "id": "2ad2e1a2",
   "metadata": {},
   "outputs": [],
   "source": []
  }
 ],
 "metadata": {
  "kernelspec": {
   "display_name": "Python 3 (ipykernel)",
   "language": "python",
   "name": "python3"
  },
  "language_info": {
   "codemirror_mode": {
    "name": "ipython",
    "version": 3
   },
   "file_extension": ".py",
   "mimetype": "text/x-python",
   "name": "python",
   "nbconvert_exporter": "python",
   "pygments_lexer": "ipython3",
   "version": "3.11.5"
  }
 },
 "nbformat": 4,
 "nbformat_minor": 5
}
